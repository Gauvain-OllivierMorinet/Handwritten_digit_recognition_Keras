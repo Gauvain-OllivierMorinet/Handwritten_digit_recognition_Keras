{
 "cells": [
  {
   "cell_type": "markdown",
   "metadata": {},
   "source": [
    "# Les Réseaux de neurones convolutifs - (CNN) Classification d'images "
   ]
  },
  {
   "cell_type": "markdown",
   "metadata": {},
   "source": [
    "## Reconnaissance de chiffres manuscrits"
   ]
  },
  {
   "cell_type": "markdown",
   "metadata": {},
   "source": [
    "Nous utiliserons, pour commencer, le Dataset MNIST fournis par Keras <br>\n",
    "( Dataset d’images de chiffres tracés à la main en 28×28 pixels )"
   ]
  },
  {
   "cell_type": "markdown",
   "metadata": {},
   "source": [
    "Nous allons entraîner trois IA différentes, puis les comparer"
   ]
  },
  {
   "cell_type": "markdown",
   "metadata": {},
   "source": [
    "    Ce TP est réalisé avec le Framework Keras, utilisant TensorFlow en Backend\n",
    "    (Keras simplifie les commandes et ajoute quelques fonctionnalitées)"
   ]
  },
  {
   "cell_type": "markdown",
   "metadata": {},
   "source": [
    "### A) Organisation des Codes et Dossiers"
   ]
  },
  {
   "cell_type": "markdown",
   "metadata": {},
   "source": [
    "- <strong>data_examples</strong> : Repertoire contenant des exemples d'images de database MNIST<br>Il sera possible d'en télécharger d'autres pour explorer l'apprentissage de nos IA\n",
    "<br><br>\n",
    "- <strong>drawings</strong> : Repertoire où sont stockés des chiffres tracés à la main pour tester les algorithmes avec une écriture réelle\n",
    "<br><br>\n",
    "- <strong>save_models</strong> : Repertoire de sauvegarde des modèles déjà entrainés.<br> Permet de ne pas avoir à entrainer les IA à chaque session\n",
    "<br><br>\n",
    "- <strong>cnnutils</strong> : Fichier <em>Python</em> contenant une Bibliothèque de fonctions dont nous aurons besoin dans tous nos projet de DeepLearning\n",
    "<br><br>\n",
    "- <strong>preparedata</strong> : Fichier <em>Python</em> où sont regroupés les operations de récupération et de préparation de nos données d'apprentissage\n",
    "<br><br>\n",
    "- <strong>small_cnn_tutorial_keras</strong> : Fichier <em>Python</em> contenant le premier CNN implémenté.<br> Le plus simple des trois\n",
    "<br><br>\n",
    "- <strong>medium_cnn_tutorial_keras</strong> : Fichier <em>Python</em> contenant le second CNN implémenté.<br> Ajout du pooling et du dropout\n",
    "<br><br>\n",
    "- <strong>large_cnn_tutorial_keras</strong> : Fichier <em>Python</em> contenant le troisième CNN implémenté<br> Plus complexe\n",
    "<br><br>"
   ]
  },
  {
   "cell_type": "markdown",
   "metadata": {},
   "source": [
    "### B) Preparation des fichiers Python"
   ]
  },
  {
   "cell_type": "markdown",
   "metadata": {},
   "source": [
    "#### Nous allons créer le fichier <strong>preparedata.py</strong>\n",
    "Occupons nous d'abord des imports :\n",
    "- Nous aurons besoin de Numpy pour manipuler les vecteurs et interagir avec Keras\n",
    "- Nous aurons besoin de Keras ou du moins d'une partie de Keras :\n",
    "    - Le dataset fournis par Keras : MNIST\n",
    "    - Quelques utilitaires qui nous permettrons de manipuler les données\n",
    "    - Et le Backend afin de le parametrer selon nos besoins\n",
    "\n",
    "Ce qui nous donne : "
   ]
  },
  {
   "cell_type": "code",
   "execution_count": 1,
   "metadata": {},
   "outputs": [
    {
     "name": "stderr",
     "output_type": "stream",
     "text": [
      "Using TensorFlow backend.\n"
     ]
    }
   ],
   "source": [
    "import numpy as np\n",
    "from keras.datasets import mnist\n",
    "from keras.utils import np_utils\n",
    "from keras import backend as K\n",
    "\n",
    "K.set_image_dim_ordering('th')\n",
    "\n",
    "# fix random seed for reproductibility\n",
    "seed = 7\n",
    "np.random.seed(seed)"
   ]
  },
  {
   "cell_type": "markdown",
   "metadata": {},
   "source": [
    "La fonction \" <em>set_image_dim_ordering</em> \" nous permet de spécifier le format des couches du modèle.<br>\n",
    "<br>\n",
    "\" <em>th</em> \" signifie que les kernels des convolutions auront pour format (depth, input_depth, rows, cols)<br>\n",
    "à l'inverse \" <em>tf</em> \" leur imposerait ce format : (rows, cols, input_depth, depth).<br>\n",
    "En clair ça donne ça : (nombre d’entrées, nombre de channels, largeur d’une entrée, hauteur d’une entrée)\n",
    "\n",
    "<br>\n",
    "Keras pouvant utiliser Theanos ou Tensorflow, il est utile de pouvoir partager les tenseurs entre ces deux backends. <br>\n",
    "Hors ils n'utilisent pas naturellement la même convention.<br>\n",
    "<br>\n",
    "Le choix de l'un ou de l'autre n'a aucune importance sur les performances.<br>\n",
    "Mais si les conventions diffèrent entre notre backend et nos tenseurs nous allons obtenir des messages d'erreur bloquants.\n",
    "<br>\n",
    "<br>\n",
    "Enfin, forcer le random de numpy se fait courament <strong>dans les tutoriaux uniquement</strong>, afin d'avoir les mêmes modèles et des resultats similaires.<br>\n",
    "En effet, lors de la génération du modèle, de nombreux paramètres sont choisis aléatoirement par Keras à l'aide de numpy"
   ]
  },
  {
   "cell_type": "markdown",
   "metadata": {},
   "source": [
    "#### Nous allons créer le fichier cnnutils.py\n",
    "Concernant les imports :\n",
    "- Nous aurons besoin de la methode de Keras pour importer les modèles enregistrés\n",
    "- De la bibliothèque Pillow (PIL), pour toutes les operations de transformation entre array et images\n",
    "- De matplotlib, principalement pour l'affichage des images\n",
    "- De Numpy, pour les operations sur les array\n",
    "\n",
    "Ce qui nous donne :"
   ]
  },
  {
   "cell_type": "code",
   "execution_count": 2,
   "metadata": {},
   "outputs": [],
   "source": [
    "from keras.models import model_from_json\n",
    "\n",
    "from PIL import Image\n",
    "\n",
    "import matplotlib.pyplot as plt\n",
    "\n",
    "import numpy as np"
   ]
  },
  {
   "cell_type": "markdown",
   "metadata": {},
   "source": [
    "#### Nous allons créer le fichier small_cnn_tutorial_keras.py\n",
    "Concernant les imports, nous auront besoin ;\n",
    "- De numpy\n",
    "- Des fichiers précédents (preparedata.py et cnnutils.py)\n",
    "- Et de Keras. Cette fois nous prendront :\n",
    "    - Le modèle qui nous interesse : sequentiel\n",
    "    - Les différentes couches (layers)\n",
    "    - Le backend, pour spécifier le format des couches\n",
    "\n",
    "Enfin, on force le random, pour les mêmes raisons qu'avant.\n",
    "\n",
    "Ce qui nous donne :"
   ]
  },
  {
   "cell_type": "code",
   "execution_count": 3,
   "metadata": {},
   "outputs": [],
   "source": [
    "import numpy as np\n",
    "import preparedata as pr\n",
    "from keras.models import Sequential\n",
    "from keras.layers import Dense\n",
    "from keras.layers import Dropout\n",
    "from keras.layers import Flatten\n",
    "from keras.layers.convolutional import Conv2D\n",
    "from keras.layers.convolutional import MaxPooling2D\n",
    "from keras import backend as K\n",
    "\n",
    "K.set_image_dim_ordering('th')\n",
    "\n",
    "# fix random seed for reproductibility\n",
    "seed = 7\n",
    "np.random.seed(seed)"
   ]
  },
  {
   "cell_type": "markdown",
   "metadata": {},
   "source": [
    "### C) Preparation des données\n",
    "\n",
    "La partie traitement est la plus importante en Machine Learning. Elle à un impact fondamental sur les resultats finaux.<br>\n",
    "\n",
    "Retournons dans notre fichier <strong>preparedata.py</strong> et chargeons les données qui sont :\n",
    "- 60 000 images pour la partie apprentissage\n",
    "- 10 000 images pour la partie test\n",
    "\n",
    "Toutes les images sont de même format, c'est a dire des matrices carrées de taille 28 X 28 en niveaux de gris (donc 1 seul channel).\n",
    "\n",
    "Concernant le contenu, les images contiennent des chiffres uniques tracés à la main entre 0 et 9 inclus.\n",
    "\n",
    "Il est temps d'importer les données depuis MNIST :"
   ]
  },
  {
   "cell_type": "code",
   "execution_count": 4,
   "metadata": {},
   "outputs": [],
   "source": [
    "# load data from MNIST\n",
    "\n",
    "(X_train, Y_train), (X_test, Y_test) = mnist.load_data()"
   ]
  },
  {
   "cell_type": "markdown",
   "metadata": {},
   "source": [
    "Ensuite, il va faloir adapter la structure des matrices pour qu'elles soient utilisables dans notre configuration  de modèle\n",
    "\n",
    "Pour le moment la matrice est de la forme : <em>60 000 X 28 X 28</em> et on à besoin qu'elle soit de la forme <em>60 000 X 1 X 28 X 28</em>\n",
    "<br>(Pour rappel : nombre d’entrées, nombre de channels, largeur d’une entrée, hauteur d’une entrée)\n",
    "\n",
    "La commande <em>reshape</em> existe exactement pour ça. On ajoutera <em>astype</em> pour convertir les matrices en <em>float32</em> plutôt que <em>uint8</em>\n",
    "\n",
    "Ce qui nous donne :"
   ]
  },
  {
   "cell_type": "code",
   "execution_count": 5,
   "metadata": {},
   "outputs": [],
   "source": [
    "# reshape to [depth][input_depth][rows][cols]\n",
    "\n",
    "X_train = X_train.reshape(X_train.shape[0], 1, 28, 28).astype('float32')\n",
    "\n",
    "X_test = X_test.reshape(X_test.shape[0], 1, 28, 28).astype('float32')"
   ]
  },
  {
   "cell_type": "markdown",
   "metadata": {},
   "source": [
    "La convertion et la normalisation sont une étape très importante. Elle permet de réduire l'écart entre les valeurs extrèmes et d'éviter les overflow.<br>\n",
    "Durant les calculs, les nombres supérieurs à 1 peuvent rapidement tendre vers l'infini.<br>\n",
    "\n",
    "Convertir en Float et diviser par 255 nous permet de confiner les valeurs entre 0 et 1.<br>\n",
    "Cela garanti d'éviter les overflow pendant les calculs et permet aux neuronnes de facilement compenser un écart important. \n",
    "\n",
    "<br>\n",
    "\n",
    "Prenons un example :\n",
    "\n",
    "Dans un réseau de neurones, on regarde pour un neurone donné tous les signaux qui y arrivent. Pour le neurone relié à un pixel valant 200 et un pixel valant 50, le pixel à 200 sera donc 4 fois plus important et dictera quasiment toutes les sorties de ce neurone, (ou alors il faudra un entraînement plus long pour que les poids s’équilibrent)<br>\n",
    "A l’inverse, si les données sont normalisées, la valeur reste toujours 4 fois supérieure MAIS l’écart est très faible. Une liaison entre les neurones peut donc facilement compenser cette différence, avec moins d’entraînement et plus d’efficacité/justesse.\n",
    "\n",
    "<br>\n",
    "\n",
    "Ajoutons donc notre code pour normaliser les valeurs :"
   ]
  },
  {
   "cell_type": "code",
   "execution_count": 6,
   "metadata": {},
   "outputs": [],
   "source": [
    "# normalize input from 0-255 to 0-1\n",
    "\n",
    "X_train = X_train / 255\n",
    "X_test = X_test / 255"
   ]
  },
  {
   "cell_type": "markdown",
   "metadata": {},
   "source": [
    "Ensuite, il faut retravailler les vecteurs de sortie pour refleter la valeur prédite par le reseau.<br>\n",
    "\n",
    "Il est plus facile et utile de recevoir la probabilitée que ce soit un 0, un 1, ect..<br>\n",
    "Autrement dit la question posée au reseau sera pour chaque chiffre \"est-ce que c'est celui-là ?\"<br>\n",
    "\n",
    "D'autre part il arrive que certains modèles calcul une moyenne en interne, ce qui serait catastrophique pour des catégories.\n",
    "D'où la nécéssitée d'avoir un \"one hot encodding\" aussi appelé \"Dummy variable\" chez les statisticiens.<br>\n",
    "(Pour faire simple, c'est un masque binaire encodé \"à chaud\" qui sera utilisé comme fonction pour entrainer le modèle)\n",
    "\n",
    "Cette convertion de variables categoricielles se fait facillement de cette manière :"
   ]
  },
  {
   "cell_type": "code",
   "execution_count": 7,
   "metadata": {},
   "outputs": [],
   "source": [
    "# one hot encode outputs\n",
    "\n",
    "Y_train = np_utils.to_categorical(Y_train)\n",
    "Y_test = np_utils.to_categorical(Y_test)\n",
    "num_classes = Y_test.shape[1]"
   ]
  },
  {
   "cell_type": "markdown",
   "metadata": {},
   "source": [
    "num_class représente le nombre de valeurs de sorties du CNN\n",
    "\n",
    "Pour conclure, nous allons encapsuler cette préparation dans une methode qui sera appelée par nos différents CNN et qui retournera nos variables\n",
    "\n",
    "Ce qui donne :"
   ]
  },
  {
   "cell_type": "code",
   "execution_count": 8,
   "metadata": {},
   "outputs": [],
   "source": [
    "def get_and_prepare_data_mnist():\n",
    "    \n",
    "    # load data from MNIST\n",
    "\n",
    "    (X_train, Y_train), (X_test, Y_test) = mnist.load_data()\n",
    "\n",
    "    # reshape to [depth][input_depth][rows][cols]\n",
    "\n",
    "    X_train = X_train.reshape(X_train.shape[0], 1, 28, 28).astype('float32')\n",
    "    X_test = X_test.reshape(X_test.shape[0], 1, 28, 28).astype('float32')\n",
    "\n",
    "    # normalize input from 0-255 to 0-1\n",
    "\n",
    "    X_train = X_train / 255\n",
    "    X_test = X_test / 255\n",
    "    \n",
    "    # one hot encode outputs\n",
    "\n",
    "    Y_train = np_utils.to_categorical(Y_train)\n",
    "    Y_test = np_utils.to_categorical(Y_test)\n",
    "    num_classes = Y_test.shape[1]\n",
    "\n",
    "    return (X_train, Y_train), (X_test, Y_test), num_classes"
   ]
  },
  {
   "cell_type": "markdown",
   "metadata": {},
   "source": [
    "### D) Le modèle de \"small CNN\"\n",
    "\n",
    "Les données étant prêtes, on va travailler notre \" Small CNN \"\n",
    "\n",
    "Nous allons retourner sur notre fichier <strong>small_cnn_tutorial_keras.py</strong>\n",
    "\n",
    "Puis commencer par charger les données grâce à la méthode get_and_prepare_data_mnist que nous venons de créer"
   ]
  },
  {
   "cell_type": "code",
   "execution_count": 9,
   "metadata": {},
   "outputs": [],
   "source": [
    "# import prepared MNIST dataset\n",
    "\n",
    "(X_train, y_train), (X_test, y_test), num_classes = pr.get_and_prepare_data_mnist()"
   ]
  },
  {
   "cell_type": "markdown",
   "metadata": {},
   "source": [
    "Enssuite nous créons notre modèle :"
   ]
  },
  {
   "cell_type": "code",
   "execution_count": 10,
   "metadata": {},
   "outputs": [],
   "source": [
    "model = Sequential()"
   ]
  },
  {
   "cell_type": "markdown",
   "metadata": {},
   "source": [
    "Nous allons maintenant attaquer les methodes de parametrage.<br>\n",
    "\n",
    "    Pour info l'architecture sera la suivante :\n",
    "    - Une convolution de 64 filtres en 3X3 suivie d'une couche d'activation ReLU\n",
    "    - Une convolution de 32 filtres en 3X3 suivie d'une couche d'activation ReLU\n",
    "    - Un flatten qui va créer un vecteur final à envoyer au réseau de neurones\n",
    "    - Un Dense, réseau de neurones artificiels qui aura 10 neurones et sera suivi d'un SoftMax. (Fonction qui permet de normaliser un vecteur pour en faire des probabilités )\n"
   ]
  },
  {
   "cell_type": "markdown",
   "metadata": {},
   "source": [
    "Pour ajouter une convolution, il faut appeler <strong>Conv2D</strong> avec en paramètres :\n",
    "- Le nombre de filtres\n",
    "- Les dimensions du noyau (ici 3X3)\n",
    "- Préciser input_shape : la taille des données d'entrée (seulement sur la première couche du CNN)\n",
    "- La méthode d'activation (ReLU)\n"
   ]
  },
  {
   "cell_type": "code",
   "execution_count": 11,
   "metadata": {},
   "outputs": [
    {
     "data": {
      "text/plain": [
       "<keras.layers.convolutional.Conv2D at 0x2cfc6623e48>"
      ]
     },
     "execution_count": 11,
     "metadata": {},
     "output_type": "execute_result"
    }
   ],
   "source": [
    "Conv2D(64, (3, 3), input_shape=(1, 28, 28), activation='relu')"
   ]
  },
  {
   "cell_type": "markdown",
   "metadata": {},
   "source": [
    "    Dans Keras, il est possible d'utiliser des convolutions à 1, 2 ou 3 dimensions. Les convolutions s'appliquent séparément à chaque channel de l'image, elles sont donc en 2D."
   ]
  },
  {
   "cell_type": "markdown",
   "metadata": {},
   "source": [
    "Même chose pour la seconde couche de convolution, mais avec seulement 32 filtres, et sans spécifier l'input_shape"
   ]
  },
  {
   "cell_type": "code",
   "execution_count": 12,
   "metadata": {},
   "outputs": [
    {
     "data": {
      "text/plain": [
       "<keras.layers.convolutional.Conv2D at 0x2cfc6623ef0>"
      ]
     },
     "execution_count": 12,
     "metadata": {},
     "output_type": "execute_result"
    }
   ],
   "source": [
    "Conv2D(32, (3, 3), activation='relu')"
   ]
  },
  {
   "cell_type": "markdown",
   "metadata": {},
   "source": [
    "La méthode <strong>Flatten</strong> ne prend aucun paramètre, elle se contente de mettre toutes les images bout à bout"
   ]
  },
  {
   "cell_type": "markdown",
   "metadata": {},
   "source": [
    "La méthode <strong>Dense</strong>, qui sert à déclarer notre réseau de neurones, prends en paramètres :\n",
    "- Le nombre de neurones de la couche de sortie\n",
    "- La méthode d'activation (SoftMax)"
   ]
  },
  {
   "cell_type": "code",
   "execution_count": 13,
   "metadata": {},
   "outputs": [
    {
     "data": {
      "text/plain": [
       "<keras.layers.core.Dense at 0x2cfc6623a58>"
      ]
     },
     "execution_count": 13,
     "metadata": {},
     "output_type": "execute_result"
    }
   ],
   "source": [
    "Dense(num_classes, activation='softmax')"
   ]
  },
  {
   "cell_type": "markdown",
   "metadata": {},
   "source": [
    "Voici donc la création de notre model :"
   ]
  },
  {
   "cell_type": "code",
   "execution_count": 14,
   "metadata": {},
   "outputs": [],
   "source": [
    "model = Sequential()\n",
    "model.add(Conv2D(64, (3, 3), input_shape=(1, 28, 28), activation='relu'))\n",
    "model.add(Conv2D(32, (3, 3), activation='relu'))\n",
    "model.add(Flatten())\n",
    "model.add(Dense(num_classes, activation='softmax'))"
   ]
  },
  {
   "cell_type": "markdown",
   "metadata": {},
   "source": [
    "Finalement, il faut compiler le modèle gràce à <strong>model.compile</strong> et préciser les paramètre suivants :\n",
    "- Le <strong>loss</strong>, qui va permettre de mesurer l'écart entre prédictions et résultats attendus.Elle évalue la justesse du CNN et sert à la mise a jour de ses variables par l'optimizer.<br>Nous allons utiliser <em>categorical_crossentropy</em>, car nos données de sortie sont des catégories.\n",
    "- L'<strong>optimizer</strong>, un algorithme de mise a jour et d'adaptation du CNN. Il va permettre de diminuer le loss et donc d'ameliorer nos predictions.<br>Nous utiliserons <em>adam</em> (pour <em>adaptative moment estimation</em>\n",
    "- La <strong>metrics</strong>, sert à mesurer l'écart entre predictions et résultats attendus, mais cette fois pour nous et non pour l'optimizer.<br>On utilisera <em>accuracy</em>\n",
    "\n",
    "Profitons en pour encapsuler le code dans une fonction dédiée :\n"
   ]
  },
  {
   "cell_type": "code",
   "execution_count": 15,
   "metadata": {},
   "outputs": [],
   "source": [
    "# define the small CNN model\n",
    "def small_model():\n",
    "    #create model\n",
    "    model = Sequential()\n",
    "    model.add(Conv2D(64, (3, 3), input_shape=(1, 28, 28), activation='relu'))\n",
    "    model.add(Conv2D(32, (3, 3), activation='relu'))\n",
    "    model.add(Flatten())\n",
    "    model.add(Dense(num_classes, activation='softmax'))\n",
    "    # Model compilation\n",
    "    model.compile(loss='categorical_crossentropy', optimizer='adam', metrics=['accuracy'])\n",
    "    return model"
   ]
  },
  {
   "cell_type": "markdown",
   "metadata": {},
   "source": [
    "Attention : Si on charge un modèle Keras déjà entrainé, il faut impérativement le recompiler pour qu'il soit utilisable"
   ]
  },
  {
   "cell_type": "markdown",
   "metadata": {},
   "source": [
    "### E) Entrainement et évaluation du Small CNN\n",
    "\n",
    "Maintenant que le modèle est prêt, il ne reste plus qu'à lancer l'entraînement\n",
    "\n",
    "Commençons par créer le modèle gràce à la methode que nous venons de produire :"
   ]
  },
  {
   "cell_type": "code",
   "execution_count": 16,
   "metadata": {},
   "outputs": [],
   "source": [
    "# building model\n",
    "model = small_model()"
   ]
  },
  {
   "cell_type": "markdown",
   "metadata": {},
   "source": [
    "L'entainement s'effectue grâce à la methode <strong>fit</strong> dont voici les arguments :\n",
    "- Les données d'apprentissage (X_train)\n",
    "- Les prédictions attendues d'apprentissages (Y_train)\n",
    "- Le paramètre <strong>validation_data</strong> : Un tuple qui contient les données d'entrées à tester et les valeurs à prédire (dans cet ordre) (X_test, Y_test)\n",
    "- le paramètre <strong>epochs</strong> : Le nombre d'itération de l'entrainement. C'est a dire le nombre de fois que le reseau va être invité à prédire toutes les données de test (60 000 images). Il sagit d'un nombre à découvrir de manière empirique en testant le loss. Au bout d'un certain nombre d'itérations, les suivantes ne diminue plus le loss de manière significative.<br>Nous choisirons 10 pour ce tutoriel. Libre à vous de faire quelques tests..\n",
    "- le paramètre <strong>batch_size</strong> : Il spécifie la taille de la \"fournée\", le nombre de données à analyser avant de mettre a jourle CNN. Mettre à jour le reseau après chaque image demande du temps et présente le risque de rendre le reseau trop proche du dataset d'entrainement (overfitting). Le but est bien de former un IA capable de reconnaître n'importe quel chiffre tracé, et pas seulement ceux qu'on lui à fournis.<br>Nous choisirons 200 (une valeur standard semble-t-il). Jouer sur ce paramètre peut-être intéressant.\n",
    "\n",
    "Cela nous donne le code suivant :"
   ]
  },
  {
   "cell_type": "code",
   "execution_count": 17,
   "metadata": {},
   "outputs": [
    {
     "name": "stdout",
     "output_type": "stream",
     "text": [
      "Train on 60000 samples, validate on 10000 samples\n",
      "Epoch 1/10\n",
      "60000/60000 [==============================] - 5s 85us/step - loss: 0.2256 - acc: 0.9340 - val_loss: 0.0609 - val_acc: 0.9816\n",
      "Epoch 2/10\n",
      "60000/60000 [==============================] - 3s 55us/step - loss: 0.0593 - acc: 0.9817 - val_loss: 0.0509 - val_acc: 0.9833\n",
      "Epoch 3/10\n",
      "60000/60000 [==============================] - 3s 54us/step - loss: 0.0420 - acc: 0.9875 - val_loss: 0.0428 - val_acc: 0.9863\n",
      "Epoch 4/10\n",
      "60000/60000 [==============================] - 3s 54us/step - loss: 0.0326 - acc: 0.9901 - val_loss: 0.0461 - val_acc: 0.9861\n",
      "Epoch 5/10\n",
      "60000/60000 [==============================] - 3s 54us/step - loss: 0.0252 - acc: 0.9923 - val_loss: 0.0468 - val_acc: 0.9854\n",
      "Epoch 6/10\n",
      "60000/60000 [==============================] - 3s 54us/step - loss: 0.0188 - acc: 0.9942 - val_loss: 0.0438 - val_acc: 0.9870\n",
      "Epoch 7/10\n",
      "60000/60000 [==============================] - 3s 54us/step - loss: 0.0150 - acc: 0.9953 - val_loss: 0.0451 - val_acc: 0.9883\n",
      "Epoch 8/10\n",
      "60000/60000 [==============================] - 3s 54us/step - loss: 0.0114 - acc: 0.9963 - val_loss: 0.0500 - val_acc: 0.9869\n",
      "Epoch 9/10\n",
      "60000/60000 [==============================] - 3s 54us/step - loss: 0.0104 - acc: 0.9966 - val_loss: 0.0495 - val_acc: 0.9879\n",
      "Epoch 10/10\n",
      "60000/60000 [==============================] - 3s 54us/step - loss: 0.0081 - acc: 0.9974 - val_loss: 0.0562 - val_acc: 0.9870\n"
     ]
    },
    {
     "data": {
      "text/plain": [
       "<keras.callbacks.History at 0x2cff1164588>"
      ]
     },
     "execution_count": 17,
     "metadata": {},
     "output_type": "execute_result"
    }
   ],
   "source": [
    "model.fit(X_train, Y_train, validation_data=(X_test, Y_test), epochs=10, batch_size=200)"
   ]
  },
  {
   "cell_type": "markdown",
   "metadata": {},
   "source": [
    "Il ne reste plus qu'à évaluer le modèle que nous venons d'entrainer.\n",
    "\n",
    "Pour ce faire, nous allons implémenter une méthode simple dans le fichier cnnutils. Elle nous sera utile très souvent.\n",
    "\n",
    "Nous alons utiliser la méthode <strong>model.evaluate</strong>. Elle demande à Keras d'évaluer un modèle et de remonter plusieurs informations nous permettant notement de scorer notre IA.\n",
    "\n",
    "Pour calculer le taux d'erreur de prendre 100 et de lui déduire le taux de succès (scores[1])\n",
    "\n",
    "Voici un exemple de ce que pourrait être cette fonction :"
   ]
  },
  {
   "cell_type": "code",
   "execution_count": 18,
   "metadata": {},
   "outputs": [],
   "source": [
    "# Evaluate a model using data and expected predictions\n",
    "def print_model_error_rate(model, X_test, Y_test):\n",
    "    # Evaluating model\n",
    "    scores = model.evaluate(X_test, Y_test, verbose=0)\n",
    "    # Human readable results\n",
    "    print(\"Model score : %.2f%%\" % (scores[1] * 100))\n",
    "    print(\"Model error rate : %.2f%%\" % (100 - scores[1] * 100))"
   ]
  },
  {
   "cell_type": "markdown",
   "metadata": {},
   "source": [
    "Il ne nous reste plus qu'à effectuer cette evaluation :"
   ]
  },
  {
   "cell_type": "code",
   "execution_count": 19,
   "metadata": {},
   "outputs": [
    {
     "name": "stdout",
     "output_type": "stream",
     "text": [
      "Model score : 98.70%\n",
      "Model error rate : 1.30%\n"
     ]
    }
   ],
   "source": [
    "print_model_error_rate(model, X_test, Y_test)"
   ]
  },
  {
   "cell_type": "markdown",
   "metadata": {},
   "source": [
    "### F) Le modèle du \"medium CNN\"\n",
    "\n",
    "Commençons par dupliquer le fichier small_cnn_tutorial_keras.py puis le renomer en medium_cnn_tutorial_keras.py\n",
    "\n",
    "Nous allons changer la structure de ce modèle.\n",
    "\n",
    "    Pour info, l'architecture sera la suivante :\n",
    "    - Une convolution de 32 filtres en 5X5 suivi d'une couche d'activation ReLU (ne pas oublier input_shape)\n",
    "    - Un max-pooling de 2X2\n",
    "    - Un dropout de 0.2\n",
    "    - Un Flatten\n",
    "    - Un Dense à 128 sorties avec activation ReLU\n",
    "    - Un Dense à 10 sorties avec activation softmax\n"
   ]
  },
  {
   "cell_type": "markdown",
   "metadata": {},
   "source": [
    "Par rapport au small CNN, il nous manque le max-pooling et le dropout\n",
    "\n",
    "Le max-pooling est créé grace à la méthode <strong>MaxPooling2D</strong>, qui prends en paramètre les dimenssions du pooling sous la forme d'un tuple assigné au paramètre <em>pool_size</em> :"
   ]
  },
  {
   "cell_type": "code",
   "execution_count": 20,
   "metadata": {},
   "outputs": [
    {
     "data": {
      "text/plain": [
       "<keras.layers.pooling.MaxPooling2D at 0x2d149a42518>"
      ]
     },
     "execution_count": 20,
     "metadata": {},
     "output_type": "execute_result"
    }
   ],
   "source": [
    "MaxPooling2D(pool_size=(2,2))"
   ]
  },
  {
   "cell_type": "markdown",
   "metadata": {},
   "source": [
    "Le dropout est créé par la méthode <strong>Dropout</strong> qui reçoit directement le taux de dropout. Ici 0.2. Ce qui signifie que 20% des neurones seront ignorés\n",
    "\n",
    "Voici le code final du \"medium CNN\""
   ]
  },
  {
   "cell_type": "code",
   "execution_count": 21,
   "metadata": {},
   "outputs": [],
   "source": [
    "# define the medium model\n",
    "def medium_model():\n",
    "    #create model\n",
    "    model = Sequential()\n",
    "    model.add(Conv2D(32, (5, 5), input_shape=(1, 28, 28), activation='relu'))\n",
    "    model.add(MaxPooling2D(pool_size=(2, 2)))\n",
    "    model.add(Dropout(0.2))\n",
    "    model.add(Flatten())\n",
    "    model.add(Dense(128, activation='relu'))\n",
    "    model.add(Dense(num_classes, activation='softmax'))\n",
    "    #compile model\n",
    "    model.compile(loss='categorical_crossentropy', optimizer='adam', metrics=['accuracy'])\n",
    "    return model"
   ]
  },
  {
   "cell_type": "markdown",
   "metadata": {},
   "source": [
    "On répète le même code que pour le small CNN, mais avec notre nouvelle methode :"
   ]
  },
  {
   "cell_type": "code",
   "execution_count": 22,
   "metadata": {},
   "outputs": [
    {
     "name": "stdout",
     "output_type": "stream",
     "text": [
      "Train on 60000 samples, validate on 10000 samples\n",
      "Epoch 1/10\n",
      "60000/60000 [==============================] - 3s 42us/step - loss: 0.2420 - acc: 0.9305 - val_loss: 0.0726 - val_acc: 0.9767\n",
      "Epoch 2/10\n",
      "60000/60000 [==============================] - 2s 36us/step - loss: 0.0697 - acc: 0.9793 - val_loss: 0.0461 - val_acc: 0.9857\n",
      "Epoch 3/10\n",
      "60000/60000 [==============================] - 2s 36us/step - loss: 0.0509 - acc: 0.9846 - val_loss: 0.0415 - val_acc: 0.9862\n",
      "Epoch 4/10\n",
      "60000/60000 [==============================] - 2s 36us/step - loss: 0.0391 - acc: 0.9876 - val_loss: 0.0386 - val_acc: 0.9884\n",
      "Epoch 5/10\n",
      "60000/60000 [==============================] - 2s 36us/step - loss: 0.0317 - acc: 0.9901 - val_loss: 0.0409 - val_acc: 0.9870\n",
      "Epoch 6/10\n",
      "60000/60000 [==============================] - 2s 36us/step - loss: 0.0255 - acc: 0.9920 - val_loss: 0.0344 - val_acc: 0.9896\n",
      "Epoch 7/10\n",
      "60000/60000 [==============================] - 2s 36us/step - loss: 0.0225 - acc: 0.9927 - val_loss: 0.0332 - val_acc: 0.9887\n",
      "Epoch 8/10\n",
      "60000/60000 [==============================] - 2s 36us/step - loss: 0.0181 - acc: 0.9939 - val_loss: 0.0322 - val_acc: 0.9894\n",
      "Epoch 9/10\n",
      "60000/60000 [==============================] - 2s 36us/step - loss: 0.0159 - acc: 0.9948 - val_loss: 0.0347 - val_acc: 0.9889\n",
      "Epoch 10/10\n",
      "60000/60000 [==============================] - 2s 41us/step - loss: 0.0137 - acc: 0.9958 - val_loss: 0.0287 - val_acc: 0.9905\n",
      "Model score : 99.05%\n",
      "Model error rate : 0.95%\n"
     ]
    }
   ],
   "source": [
    "# import prepared MNIST Dataset\n",
    "\n",
    "(X_train, Y_train), (X_test, Y_test), num_classes = pr.get_and_prepare_data_mnist()\n",
    "\n",
    "# building model\n",
    "model = medium_model()\n",
    "\n",
    "#training model\n",
    "model.fit(X_train, Y_train, validation_data=(X_test, Y_test), epochs=10, batch_size=200)\n",
    "\n",
    "# Evaluate the model\n",
    "print_model_error_rate(model, X_test, Y_test)"
   ]
  },
  {
   "cell_type": "markdown",
   "metadata": {},
   "source": [
    "### G) Le modèle du \"Large CNN\"\n",
    "\n",
    "Commençons par dupliquer le fichier medium_cnn_tutorial_keras.py puis le renomer en large_cnn_tutorial_keras.py\n",
    "\n",
    "Nous allons changer la structure de ce modèle.\n",
    "\n",
    "    Pour info, l'architecture sera la suivante :\n",
    "    - Une convolution de 30 filtres en 5X5 avec une activation ReLU (N'oublions pas input_shape)\n",
    "    - Un max-pooling de 2X2\n",
    "    - Une convolution de 15 filtres en 3X3 avec ReLU\n",
    "    - Un max-pooling de 2X2\n",
    "    - Un dropout de 0.2\n",
    "    - Un Flatten\n",
    "    - Un Dense de 128 sorties en ReLU\n",
    "    - Un Dense de 50 sorties en ReLU\n",
    "    - un Dense de 10 sorties en SoftMAx\n",
    "\n",
    "Et voici le code complet de notre large CNN :"
   ]
  },
  {
   "cell_type": "code",
   "execution_count": 23,
   "metadata": {},
   "outputs": [],
   "source": [
    "#define the large model\n",
    "def large_model():\n",
    "    # create model\n",
    "    model = Sequential()\n",
    "    model.add(Conv2D(30, (5, 5), input_shape=(1, 28, 28), activation='relu'))\n",
    "    model.add(MaxPooling2D(pool_size=(2,2)))\n",
    "    model.add(Conv2D(15, (3,3), activation='relu'))\n",
    "    model.add(MaxPooling2D(pool_size=(2,2)))\n",
    "    model.add(Dropout(0.2))\n",
    "    model.add(Flatten())\n",
    "    model.add(Dense(128, activation='relu'))\n",
    "    model.add(Dense(50, activation='relu'))\n",
    "    model.add(Dense(10, activation='softmax'))\n",
    "    #compile model\n",
    "    model.compile(loss='categorical_crossentropy', optimizer='adam', metrics=['accuracy'])\n",
    "    return model"
   ]
  },
  {
   "cell_type": "markdown",
   "metadata": {},
   "source": [
    "Toujours le même code pour entrainer notre nouveau modèle :"
   ]
  },
  {
   "cell_type": "code",
   "execution_count": 24,
   "metadata": {},
   "outputs": [
    {
     "name": "stdout",
     "output_type": "stream",
     "text": [
      "Train on 60000 samples, validate on 10000 samples\n",
      "Epoch 1/10\n",
      "60000/60000 [==============================] - 3s 56us/step - loss: 0.3777 - acc: 0.8829 - val_loss: 0.0869 - val_acc: 0.9732\n",
      "Epoch 2/10\n",
      "60000/60000 [==============================] - 2s 39us/step - loss: 0.0972 - acc: 0.9698 - val_loss: 0.0532 - val_acc: 0.9828\n",
      "Epoch 3/10\n",
      "60000/60000 [==============================] - 2s 37us/step - loss: 0.0700 - acc: 0.9776 - val_loss: 0.0436 - val_acc: 0.9860\n",
      "Epoch 4/10\n",
      "60000/60000 [==============================] - 2s 37us/step - loss: 0.0565 - acc: 0.9822 - val_loss: 0.0367 - val_acc: 0.9882\n",
      "Epoch 5/10\n",
      "60000/60000 [==============================] - 2s 36us/step - loss: 0.0490 - acc: 0.9848 - val_loss: 0.0303 - val_acc: 0.9897\n",
      "Epoch 6/10\n",
      "60000/60000 [==============================] - 2s 36us/step - loss: 0.0421 - acc: 0.9869 - val_loss: 0.0299 - val_acc: 0.9901\n",
      "Epoch 7/10\n",
      "60000/60000 [==============================] - 2s 36us/step - loss: 0.0367 - acc: 0.9886 - val_loss: 0.0314 - val_acc: 0.9895\n",
      "Epoch 8/10\n",
      "60000/60000 [==============================] - 2s 37us/step - loss: 0.0335 - acc: 0.9895 - val_loss: 0.0276 - val_acc: 0.9903\n",
      "Epoch 9/10\n",
      "60000/60000 [==============================] - 2s 36us/step - loss: 0.0304 - acc: 0.9901 - val_loss: 0.0263 - val_acc: 0.9911\n",
      "Epoch 10/10\n",
      "60000/60000 [==============================] - 2s 36us/step - loss: 0.0278 - acc: 0.9909 - val_loss: 0.0258 - val_acc: 0.9918\n",
      "Model score : 99.18%\n",
      "Model error rate : 0.82%\n"
     ]
    }
   ],
   "source": [
    "# import prepared MNIST Dataset\n",
    "\n",
    "(X_train, Y_train), (X_test, Y_test), num_classes = pr.get_and_prepare_data_mnist()\n",
    "\n",
    "# building model\n",
    "model = large_model()\n",
    "\n",
    "#training model\n",
    "model.fit(X_train, Y_train, validation_data=(X_test, Y_test), epochs=10, batch_size=200)\n",
    "\n",
    "# Evaluate the model\n",
    "print_model_error_rate(model, X_test, Y_test)"
   ]
  },
  {
   "cell_type": "markdown",
   "metadata": {},
   "source": [
    "### H) Sauvegarde et chargement et execution des modèles avec Keras\n",
    "\n",
    "Parceque ça commence à faire beaucoup de modèles et que les entrainer commence à couter du temps (surtout si vous n'utilisez pas votre GPU), il est temps d'apprendre à sauvegarder et restaurer un modèle.\n",
    "\n",
    "Nous allons placer ces fonctions dans cnnutils.py, car ce sont des  fonctions que vous utiliserez souvent elles aussi."
   ]
  },
  {
   "cell_type": "markdown",
   "metadata": {},
   "source": [
    "#### I) Fonction de sauvegarde"
   ]
  },
  {
   "cell_type": "markdown",
   "metadata": {},
   "source": [
    "Effectuer une sauvegarde se fait en 2 étapes :\n",
    "\n",
    "Il faut d'abord utiliser la méthode <strong>model.to_json</strong>. Elle permet d'exporter l'architecture du modèle. Il faudra enssuite l'écrire dans un fichier. C'est au format <em>json</em>, donc comprehensible par un humain.\n",
    "\n",
    "Il faut ensuite utiliser la méthode <strong>model.save_weights</strong>.Elle permet de sauvegarder les poids du réseau (tout ce qui est issu de son entrainement). Ce fichier est au format <em>hdf5</em>, je vous laisse voir à quoi cela ressemble.\n",
    "\n",
    "Voici ce que donne la fonction de sauvegarde :"
   ]
  },
  {
   "cell_type": "code",
   "execution_count": 25,
   "metadata": {},
   "outputs": [],
   "source": [
    "# This function saves a model on the drive using 2 files : .json an .h5\n",
    "def save_keras_model(model, filename):\n",
    "    # serialize model to JSON\n",
    "    model_json = model.to_json()\n",
    "    with open(filename + \".json\", \"w\") as json_file:\n",
    "        json_file.write(model_json)\n",
    "    #serialize weights to HDF5\n",
    "    model.save_weights(filename + \".h5\")"
   ]
  },
  {
   "cell_type": "markdown",
   "metadata": {},
   "source": [
    "#### II) Fonction de chargement"
   ]
  },
  {
   "cell_type": "markdown",
   "metadata": {},
   "source": [
    "Charger un modèle se fait aussi en deux étapes :\n",
    "\n",
    "Il faut dabord utiliser la <strong>méthode model_from_json</strong>. Elle permet d'importer l'architecture du modèle. Il faut bien sur la lire dans le fichier avant d'utiliser la commande. Pour utiliser cette methode, il fadra l'importer depuis keras\n",
    "\n",
    "Il faut enssuite utiliser la méthode <strong>model.load_weights</strong>. Elle permet d'importer les poids du réseau. Celle-ci lit elle-même le fichier que vous lui donnez en paramètre\n",
    "\n",
    "Voilà ce que donne la fonction :"
   ]
  },
  {
   "cell_type": "code",
   "execution_count": 26,
   "metadata": {},
   "outputs": [],
   "source": [
    "from keras.models import model_from_json\n",
    "\n",
    "# This function load a model from 2 files : .json an .h5\n",
    "# WARNING : Don't mix different model's data\n",
    "# The new model need to be compiled before any use\n",
    "def load_keras_model(filename):\n",
    "    #load JSON and create the model\n",
    "    with open(filename + \".json\", \"r\") as json_file:\n",
    "        loaded_model_json = json_file.read()\n",
    "    loaded_model = model_from_json(loaded_model_json)\n",
    "    # load weights into the new model\n",
    "    loaded_model.load_weights(filename + \".h5\")\n",
    "    # print a summary of the loaded model\n",
    "    loaded_model.summary()\n",
    "    return loaded_model"
   ]
  },
  {
   "cell_type": "markdown",
   "metadata": {},
   "source": [
    "Pour vérifier le fonctionnement de nos nouvelles fonctions, je propose de sauvegarder puis restaurer nos 3 modèles.\n",
    "\n",
    "On en profitera pour les tester l'un après l'autre sur quelques images prises au hasard sur internet. Après tout on construit un modèle pour l'utiliser..."
   ]
  },
  {
   "cell_type": "markdown",
   "metadata": {},
   "source": [
    "#### III) Sauvegarde de nos 3 modèles"
   ]
  },
  {
   "cell_type": "markdown",
   "metadata": {},
   "source": [
    "Puisque le dernier modèle entrainé est le large_model, c'est celui qui est actuellement dans la variable model.\n",
    "Commencer par enregistrer celui-ci nous economisera 1 entrainement.\n",
    "\n",
    "Nous appelons donc la fonction <strong>save_keras_model</strong> avec notre model en paramètre ainsi que le nom du fichier précédé du chemin relatif au repertoir de travail : \"save_models/Large_model_CNN\""
   ]
  },
  {
   "cell_type": "code",
   "execution_count": 27,
   "metadata": {},
   "outputs": [],
   "source": [
    "save_keras_model(model, \"save_models\\Large_model_CNN\")"
   ]
  },
  {
   "cell_type": "markdown",
   "metadata": {},
   "source": [
    "Et voilà ! Notre Large_model est sauvegardé.\n",
    "Nous allons répéter l'operation avec le medium_model. Mais puisque le Large_model l'a remplacé dans la variable model, il va faloir le ré-entrainer.\n",
    "\n",
    "    Pour ceux qui executent le Notebook, il suffit de ré-executer le dernier point de : <strong>F) Le modèle du \"medium CNN\" [anchor link]</strong>, puis de revenir ici.\n",
    "\n",
    "Une fois que l'entrainement est terminé, on appel à nouveau la fonction de sauvegarde (sans oublier de changer le nom de fichier) :"
   ]
  },
  {
   "cell_type": "code",
   "execution_count": 28,
   "metadata": {},
   "outputs": [],
   "source": [
    "save_keras_model(model, \"save_models\\Medium_model_CNN\")"
   ]
  },
  {
   "cell_type": "markdown",
   "metadata": {},
   "source": [
    "Tout s'est bien passé.\n",
    "Vous avez sans doute remarqué que notre Medium_model n'a pas dégagé le même error rate que lors de la première execution. C'est normal. Il y a toujours une partie aléatoire dans les entrainement de models.\n",
    "\n",
    "    C'est pour cette raison que nous avons forcé la fonction random au début de ce tutoriel. Les différences seraient pires sans cela.\n",
    "    Vous pouvez essayer vos entrainements sans cette ligne, mais n'oubliez pas de la remettre pour continuer ce tutoriel.\n",
    "\n",
    "En général on sauvegarde le meilleur model. Il faut le relancer plusieurs fois pour ne conserver que celui qui à le meilleur score. C'est une opération qui se fait durant la phase d'optimisation du CNN (vous vous souvenez, lorsqu'on détermine les paramètres \"epoch\", \"batch_size\", ..)\n",
    "\n",
    "Je vous laisse faire de votre côté si vous le souhaitez. Mais sachez qu'obtenir le meilleur ratio n'est pas essentiel pour ce tutoriel. Donc si votre machine n'est pas très puissante, ne perdez pas trop de temps sur ce point.\n",
    "\n",
    "Répétons une dernière fois l'opération pour sauvegarder le small_model.\n",
    "\n",
    "    Pour ceux qui executent le Notebook, voici la synthèse :"
   ]
  },
  {
   "cell_type": "code",
   "execution_count": 29,
   "metadata": {},
   "outputs": [
    {
     "name": "stdout",
     "output_type": "stream",
     "text": [
      "Train on 60000 samples, validate on 10000 samples\n",
      "Epoch 1/10\n",
      "60000/60000 [==============================] - 4s 61us/step - loss: 0.2375 - acc: 0.9316 - val_loss: 0.0671 - val_acc: 0.9783\n",
      "Epoch 2/10\n",
      "60000/60000 [==============================] - 3s 54us/step - loss: 0.0664 - acc: 0.9800 - val_loss: 0.0545 - val_acc: 0.9818\n",
      "Epoch 3/10\n",
      "60000/60000 [==============================] - 3s 54us/step - loss: 0.0456 - acc: 0.9859 - val_loss: 0.0464 - val_acc: 0.9850\n",
      "Epoch 4/10\n",
      "60000/60000 [==============================] - 3s 54us/step - loss: 0.0354 - acc: 0.9889 - val_loss: 0.0475 - val_acc: 0.9840\n",
      "Epoch 5/10\n",
      "60000/60000 [==============================] - 3s 54us/step - loss: 0.0266 - acc: 0.9918 - val_loss: 0.0466 - val_acc: 0.9866\n",
      "Epoch 6/10\n",
      "60000/60000 [==============================] - 3s 54us/step - loss: 0.0209 - acc: 0.9935 - val_loss: 0.0435 - val_acc: 0.9874\n",
      "Epoch 7/10\n",
      "60000/60000 [==============================] - 3s 55us/step - loss: 0.0160 - acc: 0.9952 - val_loss: 0.0449 - val_acc: 0.9877\n",
      "Epoch 8/10\n",
      "60000/60000 [==============================] - 3s 54us/step - loss: 0.0130 - acc: 0.9959 - val_loss: 0.0489 - val_acc: 0.9877\n",
      "Epoch 9/10\n",
      "60000/60000 [==============================] - 3s 54us/step - loss: 0.0096 - acc: 0.9970 - val_loss: 0.0558 - val_acc: 0.9860\n",
      "Epoch 10/10\n",
      "60000/60000 [==============================] - 3s 54us/step - loss: 0.0083 - acc: 0.9975 - val_loss: 0.0521 - val_acc: 0.9861\n",
      "Model score : 98.61%\n",
      "Model error rate : 1.39%\n"
     ]
    }
   ],
   "source": [
    "# import prepared MNIST Dataset\n",
    "\n",
    "(X_train, Y_train), (X_test, Y_test), num_classes = pr.get_and_prepare_data_mnist()\n",
    "\n",
    "# building model\n",
    "model = small_model()\n",
    "\n",
    "#training model\n",
    "model.fit(X_train, Y_train, validation_data=(X_test, Y_test), epochs=10, batch_size=200)\n",
    "\n",
    "# Evaluate the model\n",
    "print_model_error_rate(model, X_test, Y_test)"
   ]
  },
  {
   "cell_type": "markdown",
   "metadata": {},
   "source": [
    "Et enfin, l'appel de la fonction de sauvegarde :"
   ]
  },
  {
   "cell_type": "code",
   "execution_count": 30,
   "metadata": {},
   "outputs": [],
   "source": [
    "save_keras_model(model, \"save_models\\Small_model_CNN\")"
   ]
  },
  {
   "cell_type": "markdown",
   "metadata": {},
   "source": [
    "#### IV) Charger nos trois models"
   ]
  },
  {
   "cell_type": "markdown",
   "metadata": {},
   "source": [
    "Maintenant nous allons voir comment charger un modèle.\n",
    "\n",
    "Je propose de stocker les modèles chargés dans des variables aux nom plus personalisés que la variable model.\n",
    "\n",
    "Commencons par charger les small_model :"
   ]
  },
  {
   "cell_type": "code",
   "execution_count": 31,
   "metadata": {},
   "outputs": [
    {
     "name": "stdout",
     "output_type": "stream",
     "text": [
      "_________________________________________________________________\n",
      "Layer (type)                 Output Shape              Param #   \n",
      "=================================================================\n",
      "conv2d_10 (Conv2D)           (None, 64, 26, 26)        640       \n",
      "_________________________________________________________________\n",
      "conv2d_11 (Conv2D)           (None, 32, 24, 24)        18464     \n",
      "_________________________________________________________________\n",
      "flatten_5 (Flatten)          (None, 18432)             0         \n",
      "_________________________________________________________________\n",
      "dense_9 (Dense)              (None, 10)                184330    \n",
      "=================================================================\n",
      "Total params: 203,434\n",
      "Trainable params: 203,434\n",
      "Non-trainable params: 0\n",
      "_________________________________________________________________\n"
     ]
    }
   ],
   "source": [
    "small_model_CNN = load_keras_model(\"save_models\\Small_model_CNN\")"
   ]
  },
  {
   "cell_type": "markdown",
   "metadata": {},
   "source": [
    "Le modèle est maintenant importé. Mais pour qu'il soit utilisable, il faut encore le compiler.\n",
    "\n",
    "Et pour cela il faut indiquer à la méthode compile les parametres à appliquer. Comme nous venont de créer ces modèles nous savonsq lesquels nous avions appliqués. Essayez de toujours noter ces parametres quelquepart.\n",
    "\n",
    "Voici le code pour le Small_model :"
   ]
  },
  {
   "cell_type": "code",
   "execution_count": 32,
   "metadata": {},
   "outputs": [],
   "source": [
    "small_model_CNN.compile(loss='categorical_crossentropy', optimizer='adam', metrics=['accuracy'])"
   ]
  },
  {
   "cell_type": "markdown",
   "metadata": {},
   "source": [
    "Maintenant que le modèle est recompilé, nous pouvons l'utiliser.\n",
    "\n",
    "Pour le vérifier nous allons ré-effectuer l'opération d'évaluation que nous venions de faire :"
   ]
  },
  {
   "cell_type": "code",
   "execution_count": 33,
   "metadata": {},
   "outputs": [
    {
     "name": "stdout",
     "output_type": "stream",
     "text": [
      "Model score : 98.61%\n",
      "Model error rate : 1.39%\n"
     ]
    }
   ],
   "source": [
    "# Evaluate the model\n",
    "print_model_error_rate(small_model_CNN, X_test, Y_test)"
   ]
  },
  {
   "cell_type": "markdown",
   "metadata": {},
   "source": [
    "Comme vous pouvez le constater tout à fonctionné. Et, comme attendu, les statistiques sont les mêmes.\n",
    "\n",
    "Il ne reste plus qu'à faire de même avec nos deux autres modèles :"
   ]
  },
  {
   "cell_type": "code",
   "execution_count": 34,
   "metadata": {},
   "outputs": [
    {
     "name": "stdout",
     "output_type": "stream",
     "text": [
      "_________________________________________________________________\n",
      "Layer (type)                 Output Shape              Param #   \n",
      "=================================================================\n",
      "conv2d_8 (Conv2D)            (None, 30, 24, 24)        780       \n",
      "_________________________________________________________________\n",
      "max_pooling2d_3 (MaxPooling2 (None, 30, 12, 12)        0         \n",
      "_________________________________________________________________\n",
      "conv2d_9 (Conv2D)            (None, 15, 10, 10)        4065      \n",
      "_________________________________________________________________\n",
      "max_pooling2d_4 (MaxPooling2 (None, 15, 5, 5)          0         \n",
      "_________________________________________________________________\n",
      "dropout_2 (Dropout)          (None, 15, 5, 5)          0         \n",
      "_________________________________________________________________\n",
      "flatten_4 (Flatten)          (None, 375)               0         \n",
      "_________________________________________________________________\n",
      "dense_6 (Dense)              (None, 128)               48128     \n",
      "_________________________________________________________________\n",
      "dense_7 (Dense)              (None, 50)                6450      \n",
      "_________________________________________________________________\n",
      "dense_8 (Dense)              (None, 10)                510       \n",
      "=================================================================\n",
      "Total params: 59,933\n",
      "Trainable params: 59,933\n",
      "Non-trainable params: 0\n",
      "_________________________________________________________________\n",
      "_________________________________________________________________\n",
      "Layer (type)                 Output Shape              Param #   \n",
      "=================================================================\n",
      "conv2d_8 (Conv2D)            (None, 30, 24, 24)        780       \n",
      "_________________________________________________________________\n",
      "max_pooling2d_3 (MaxPooling2 (None, 30, 12, 12)        0         \n",
      "_________________________________________________________________\n",
      "conv2d_9 (Conv2D)            (None, 15, 10, 10)        4065      \n",
      "_________________________________________________________________\n",
      "max_pooling2d_4 (MaxPooling2 (None, 15, 5, 5)          0         \n",
      "_________________________________________________________________\n",
      "dropout_2 (Dropout)          (None, 15, 5, 5)          0         \n",
      "_________________________________________________________________\n",
      "flatten_4 (Flatten)          (None, 375)               0         \n",
      "_________________________________________________________________\n",
      "dense_6 (Dense)              (None, 128)               48128     \n",
      "_________________________________________________________________\n",
      "dense_7 (Dense)              (None, 50)                6450      \n",
      "_________________________________________________________________\n",
      "dense_8 (Dense)              (None, 10)                510       \n",
      "=================================================================\n",
      "Total params: 59,933\n",
      "Trainable params: 59,933\n",
      "Non-trainable params: 0\n",
      "_________________________________________________________________\n"
     ]
    }
   ],
   "source": [
    "medium_model_CNN = load_keras_model(\"save_models\\Medium_model_CNN\")\n",
    "large_model_CNN = load_keras_model(\"save_models\\Large_model_CNN\")\n",
    "\n",
    "medium_model_CNN.compile(loss='categorical_crossentropy', optimizer='adam', metrics=['accuracy'])\n",
    "large_model_CNN.compile(loss='categorical_crossentropy', optimizer='adam', metrics=['accuracy'])"
   ]
  },
  {
   "cell_type": "markdown",
   "metadata": {},
   "source": [
    "L'évaluation des modèles n'est pas utile. Mais pour le fun :"
   ]
  },
  {
   "cell_type": "code",
   "execution_count": 35,
   "metadata": {},
   "outputs": [
    {
     "name": "stdout",
     "output_type": "stream",
     "text": [
      "Medium CNN model :\n",
      "Model score : 99.18%\n",
      "Model error rate : 0.82%\n",
      "Large CNN model :\n",
      "Model score : 99.18%\n",
      "Model error rate : 0.82%\n"
     ]
    }
   ],
   "source": [
    "# Evaluate the model\n",
    "print(\"Medium CNN model :\")\n",
    "print_model_error_rate(medium_model_CNN, X_test, Y_test)\n",
    "print(\"Large CNN model :\")\n",
    "print_model_error_rate(large_model_CNN, X_test, Y_test)"
   ]
  },
  {
   "cell_type": "markdown",
   "metadata": {},
   "source": [
    "#### V) Préparation d'une image pour evaluation"
   ]
  },
  {
   "cell_type": "markdown",
   "metadata": {},
   "source": [
    "Pour que nos modèles puissent effectuer une classification à la demande sur d'autres images, celles-cies doivent être mise en forme pour correspondre à celles de notre dataset d'entrainement.\n",
    "\n",
    "Il va nous faloir une fonction dédiée à la mise en forme de ces images.\n",
    "Je propose de la placer dans <strong>prepardata.py</strong>, puisqu'il sagit bien de préparation et que l'on reprendra une partie du code.\n",
    "\n",
    "Pour commencer il faut se rappeler que notre Dataset contient des images en niveaux de gris de taille 28 X 28.\n",
    "\n",
    "Il va donc faloir ouvrir une image sur le disque, la convertir en niveaux de gris; puis lui donner la bonne taille.\n",
    "\n",
    "Commençons par voir comment ouvrir, puis afficher une image :"
   ]
  },
  {
   "cell_type": "code",
   "execution_count": 36,
   "metadata": {},
   "outputs": [
    {
     "data": {
      "text/plain": [
       "<matplotlib.image.AxesImage at 0x2cff6299588>"
      ]
     },
     "execution_count": 36,
     "metadata": {},
     "output_type": "execute_result"
    },
    {
     "data": {
      "image/png": "[encoded data removed]",
      "text/plain": [
       "<matplotlib.figure.Figure at 0x2cff508b240>"
      ]
     },
     "metadata": {},
     "output_type": "display_data"
    }
   ],
   "source": [
    "img = Image.open(\"data_examples\\sample_4_1.jpg\", \"r\")\n",
    "plt.imshow(img)"
   ]
  },
  {
   "cell_type": "markdown",
   "metadata": {},
   "source": [
    "Cette image est en couleur, mais nous avons entrainé nos modèles sur des images en niveaux de gris.\n",
    "Il va donc faloir transformer cette image avant de pouvoir l'utiliser.\n",
    "\n",
    "Heureusement, Pillow (alias PIL, renomé ici \"Image\") nous offre une methode <em>convert</em> pouvant prendre plusieurs modes de représentation de 'une image. L'un de ces modes corespond à notre besoin. C'est le mode \"L\", qui encode une image sur 8 bits par pixels, représentants la couleur en niveaux de gris.\n",
    "\n",
    "Pour l'affichage, Plotlib à besoin que l'image soit un array, ainsi que d'indications sur la palette de couleurs à appliquer. <em>img.show()</em> fait cela tout seul, mais est moins indiqué pour un Notebook..\n",
    "\n",
    "Voyons ce que cela donne :"
   ]
  },
  {
   "cell_type": "code",
   "execution_count": 37,
   "metadata": {},
   "outputs": [
    {
     "data": {
      "text/plain": [
       "<matplotlib.image.AxesImage at 0x2cff632b550>"
      ]
     },
     "execution_count": 37,
     "metadata": {},
     "output_type": "execute_result"
    },
    {
     "data": {
      "image/png": "[encoded data removed]",
      "text/plain": [
       "<matplotlib.figure.Figure at 0x2cff518ba90>"
      ]
     },
     "metadata": {},
     "output_type": "display_data"
    }
   ],
   "source": [
    "img = img.convert('L')\n",
    "plt.imshow(np.asarray(img), cmap=plt.get_cmap('gray'))"
   ]
  },
  {
   "cell_type": "markdown",
   "metadata": {},
   "source": [
    "Nous avons notre image en niveaux de gris.\n",
    "\n",
    "Il ne reste plus qu'à la redimenssionner pour correspondre à nos 28 X 28 pixels..."
   ]
  },
  {
   "cell_type": "code",
   "execution_count": 38,
   "metadata": {},
   "outputs": [
    {
     "data": {
      "text/plain": [
       "<matplotlib.image.AxesImage at 0x2cff63a3240>"
      ]
     },
     "execution_count": 38,
     "metadata": {},
     "output_type": "execute_result"
    },
    {
     "data": {
      "image/png": "[encoded data removed]",
      "text/plain": [
       "<matplotlib.figure.Figure at 0x2cff6307128>"
      ]
     },
     "metadata": {},
     "output_type": "display_data"
    }
   ],
   "source": [
    "img = img.resize((28, 28), Image.ANTIALIAS)\n",
    "plt.imshow(np.asarray(img), cmap=plt.get_cmap('gray'))"
   ]
  },
  {
   "cell_type": "markdown",
   "metadata": {},
   "source": [
    "Malheureusement ce n'est pas tout. Les images fournis par MNIST database sont des chiffres blancs sur fond noir, ce qui est l'inverse de celui que nous avons ici.<br>Nous allons donc inverser la colorimetrie de l'image.\n",
    "\n",
    "Pour cela nous devons importer un autre module de Pillow : <strong>ImageOps</strong> qui nous offre la méthode <em>invert</em> :"
   ]
  },
  {
   "cell_type": "code",
   "execution_count": 39,
   "metadata": {},
   "outputs": [
    {
     "data": {
      "text/plain": [
       "<matplotlib.image.AxesImage at 0x2cff63fdd30>"
      ]
     },
     "execution_count": 39,
     "metadata": {},
     "output_type": "execute_result"
    },
    {
     "data": {
      "image/png": "[encoded data removed]",
      "text/plain": [
       "<matplotlib.figure.Figure at 0x2cff6378f28>"
      ]
     },
     "metadata": {},
     "output_type": "display_data"
    }
   ],
   "source": [
    "from PIL import ImageOps\n",
    "\n",
    "img = ImageOps.invert(img)\n",
    "plt.imshow(np.asarray(img), cmap=plt.get_cmap('gray'))"
   ]
  },
  {
   "cell_type": "markdown",
   "metadata": {},
   "source": [
    "Puis à formater la matrice pour correspondre au format imposé dans <em>get_and_prepare_data_mnist</em> :\n",
    "\n",
    "    Pas de imshow() ici car il ne sagit plus d'une image valide"
   ]
  },
  {
   "cell_type": "code",
   "execution_count": 40,
   "metadata": {},
   "outputs": [],
   "source": [
    "#Convert to array\n",
    "prepared =  np.array(img)\n",
    "#Reshape\n",
    "prepared = prepared.reshape(1, 1, 28,28).astype('float32')\n",
    "#Normalize\n",
    "prepared = prepared / 255"
   ]
  },
  {
   "cell_type": "markdown",
   "metadata": {},
   "source": [
    "Il ne reste plus qu'à rassembler le code dans une fonction <strong>get_and_prepare_custom_data</strong> :"
   ]
  },
  {
   "cell_type": "code",
   "execution_count": 41,
   "metadata": {},
   "outputs": [],
   "source": [
    "# This fonction prepare a picture for being processed by CNN\n",
    "def get_and_prepare_custom_data(filename):\n",
    "    #Opening in grayscale and resizing picture\n",
    "    img = Image.open(filename, \"r\")\\\n",
    "        .convert('L').resize((28, 28), Image.ANTIALIAS)\n",
    "    #Inverting color map\n",
    "    img = ImageOps.invert(img)\n",
    "    #Matrix formating\n",
    "    prepared = np.asarray(img).reshape(1, 1, 28, 28).astype('float32')\n",
    "    prepared = prepared / 255\n",
    "    return prepared"
   ]
  },
  {
   "cell_type": "markdown",
   "metadata": {},
   "source": [
    "#### VI) Evaluation d'une image"
   ]
  },
  {
   "cell_type": "markdown",
   "metadata": {},
   "source": [
    "Maintenant que notre fonction de préparation des images est terminée, nous allons voir comment appliquer les prédictions de nos modèles.\n",
    "\n",
    "Commençons donc par appeler notre fonction sur une image prise sur internet :"
   ]
  },
  {
   "cell_type": "code",
   "execution_count": 42,
   "metadata": {},
   "outputs": [],
   "source": [
    "target = get_and_prepare_custom_data(\"data_examples\\sample_3_1.jpg\")"
   ]
  },
  {
   "cell_type": "markdown",
   "metadata": {},
   "source": [
    "Puis demandons à l'un de nos modèles d'effectuer une prédiction dessus :"
   ]
  },
  {
   "cell_type": "code",
   "execution_count": 43,
   "metadata": {},
   "outputs": [
    {
     "name": "stdout",
     "output_type": "stream",
     "text": [
      "3\n"
     ]
    }
   ],
   "source": [
    "a = large_model_CNN.predict_classes(target)\n",
    "print(a[0])"
   ]
  },
  {
   "cell_type": "markdown",
   "metadata": {},
   "source": [
    "Bien entendu il peut être utile d'encapsuler ces lignes dans une fonction prenant en paramètre le chemin du fichier ainsi que le modèle à utiliser. Cela permetrait notament de fournir un affichage plus parlant que celui que nous venons d'avoir. \n",
    "\n",
    "Appelons cette fonction <strong>get_handwritten_digit_class</strong> :"
   ]
  },
  {
   "cell_type": "code",
   "execution_count": 44,
   "metadata": {},
   "outputs": [],
   "source": [
    "from pathlib import Path\n",
    "\n",
    "#Print and return prediction on an unprepared data with specified model\n",
    "def get_handwritten_digit_class(filename, model):\n",
    "    target = get_and_prepare_custom_data(filename)\n",
    "    prediction = model.predict_classes(target)\n",
    "    img = Image.open(filename, \"r\")\n",
    "    plt.title(Path(filename).stem)\n",
    "    plt.imshow(img)\n",
    "    print(\" The model classified the digit as being a \" + str(prediction[0]))\n",
    "    return prediction"
   ]
  },
  {
   "cell_type": "markdown",
   "metadata": {},
   "source": [
    "Qui doit être executée de cette façon :"
   ]
  },
  {
   "cell_type": "code",
   "execution_count": 45,
   "metadata": {},
   "outputs": [
    {
     "name": "stdout",
     "output_type": "stream",
     "text": [
      " The model classified the digit as being a 3\n"
     ]
    },
    {
     "data": {
      "text/plain": [
       "array([3], dtype=int64)"
      ]
     },
     "execution_count": 45,
     "metadata": {},
     "output_type": "execute_result"
    },
    {
     "data": {
      "image/png": "[encoded data removed]",
      "text/plain": [
       "<matplotlib.figure.Figure at 0x2cff6415d30>"
      ]
     },
     "metadata": {},
     "output_type": "display_data"
    }
   ],
   "source": [
    "get_handwritten_digit_class(\"data_examples\\sample_3_1.jpg\", large_model_CNN)"
   ]
  },
  {
   "cell_type": "markdown",
   "metadata": {},
   "source": [
    "Et maintenant nous allons améliorer l'affichage, permettre d'effectuer le test sur une liste d'images et rendre optionel l'affichage des resultas :"
   ]
  },
  {
   "cell_type": "code",
   "execution_count": 46,
   "metadata": {},
   "outputs": [],
   "source": [
    "#Print and/or return multiples predictions on unprepared datas with specified model\n",
    "def get_multiple_handwritten_digit_class(filenames, model, display=True):\n",
    "    rows = len(filenames)\n",
    "    if display :\n",
    "        fig, axs = plt.subplots(rows, 3,figsize=(15,15))\n",
    "    predictions = []\n",
    "    for row, filename in enumerate(filenames) :\n",
    "        target = get_and_prepare_custom_data(filename)\n",
    "        predictions.append(model.predict_classes(target))\n",
    "        if display :\n",
    "            img = Image.open(filename, \"r\")\n",
    "            arrow = Image.open(\"draws\\\\fleche.jpg\", \"r\")\n",
    "            axs[row, 0].set_axis_off()\n",
    "            axs[row, 1].set_axis_off()\n",
    "            axs[row, 2].set_axis_off()\n",
    "            axs[row, 0].set_title(Path(filename).stem)\n",
    "            axs[row, 0].imshow(img)\n",
    "            axs[row, 1].imshow(arrow)\n",
    "            axs[row, 2].text(0.5,0.5,'This is a\\n' + str(predictions[row][0]), horizontalalignment='center',\n",
    "             verticalalignment='center', fontsize=18, color='r')\n",
    "    return predictions"
   ]
  },
  {
   "cell_type": "code",
   "execution_count": 47,
   "metadata": {},
   "outputs": [
    {
     "data": {
      "image/png": "[encoded data removed]",
      "text/plain": [
       "<matplotlib.figure.Figure at 0x2cff6481320>"
      ]
     },
     "metadata": {},
     "output_type": "display_data"
    }
   ],
   "source": [
    "files = [\n",
    "    \"data_examples\\sample_3_1.jpg\",\n",
    "     \"data_examples\\sample_4_1.jpg\",\n",
    "     \"data_examples\\sample_5_1.jpg\",\n",
    "     \"data_examples\\sample_0_1.jpg\",\n",
    "     \"data_examples\\sample_0_2.jpg\",\n",
    "     \"data_examples\\sample_1_1.jpg\",\n",
    "     \"data_examples\\sample_1_2.jpg\", \n",
    "     \"draws\\\\fleche.jpg\"\n",
    "        ]\n",
    "predictions = get_multiple_handwritten_digit_class(files, large_model_CNN, display=True)"
   ]
  },
  {
   "cell_type": "markdown",
   "metadata": {},
   "source": [
    "Comme nous pouvons le constater, et malgrès les resultats intéressants de nos modèles sur le dataset, la confrontation avec des images d'autres provenances n'est pas aussi concluante.\n",
    "\n",
    "Nous pouvons aussi nous rendre compte que notre modèle ne couvre pas la possibilitée que l'image fournie ne représente pas un chiffre. (flèche en dernière ligne)\n",
    "\n",
    "Nous nous interesseront dans les prochains chapitres à différentes manières d'améliorer nos prédictions sur des données moins formatées que celle offertes par le dataset MNIST.\n",
    "Ainsi nous tenterons de nous affranchir des problématiques de background des images, de la couleur des chiffres et de son impact sur la qualité des prédictions, ..\n",
    "\n",
    "Nous chercherons, par l'expérimentation, à déterminer s'il est possible de séléctionner une architecture plus efficace pour nos modèles.\n",
    "\n",
    "Puis nous ajouterons une classification destinée à repérer les entrées non numériques, et ce faisant, éviter les classements erronées qui en découleraient."
   ]
  },
  {
   "cell_type": "code",
   "execution_count": null,
   "metadata": {},
   "outputs": [],
   "source": []
  },
  {
   "cell_type": "markdown",
   "metadata": {},
   "source": [
    "# FIN TEMPORAIRE DU TUTORIEL\n",
    "### La suite sera ajoutée au fur et a mesure de son evolution lorseque je l'estimerai présentable"
   ]
  },
  {
   "cell_type": "code",
   "execution_count": null,
   "metadata": {},
   "outputs": [],
   "source": []
  },
  {
   "cell_type": "code",
   "execution_count": null,
   "metadata": {},
   "outputs": [],
   "source": []
  },
  {
   "cell_type": "code",
   "execution_count": null,
   "metadata": {},
   "outputs": [],
   "source": []
  },
  {
   "cell_type": "code",
   "execution_count": null,
   "metadata": {},
   "outputs": [],
   "source": []
  },
  {
   "cell_type": "code",
   "execution_count": null,
   "metadata": {},
   "outputs": [],
   "source": []
  },
  {
   "cell_type": "code",
   "execution_count": null,
   "metadata": {},
   "outputs": [],
   "source": []
  },
  {
   "cell_type": "code",
   "execution_count": null,
   "metadata": {},
   "outputs": [],
   "source": []
  },
  {
   "cell_type": "code",
   "execution_count": null,
   "metadata": {},
   "outputs": [],
   "source": []
  },
  {
   "cell_type": "code",
   "execution_count": null,
   "metadata": {},
   "outputs": [],
   "source": []
  },
  {
   "cell_type": "code",
   "execution_count": 51,
   "metadata": {},
   "outputs": [
    {
     "data": {
      "text/plain": [
       "<matplotlib.image.AxesImage at 0x254454acda0>"
      ]
     },
     "execution_count": 51,
     "metadata": {},
     "output_type": "execute_result"
    },
    {
     "data": {
      "image/png": "[encoded data removed]",
      "text/plain": [
       "<matplotlib.figure.Figure at 0x25444e4da58>"
      ]
     },
     "metadata": {},
     "output_type": "display_data"
    }
   ],
   "source": [
    "from keras.preprocessing.image import array_to_img\n",
    "img = array_to_img(X_train[0])\n",
    "# plt.imshow(img)\n",
    "# img.show()\n",
    "\n",
    "x = X_train[0].reshape(28,28).astype('float32')\n",
    "plt.imshow(x, cmap=plt.get_cmap('gray'))"
   ]
  },
  {
   "cell_type": "code",
   "execution_count": null,
   "metadata": {},
   "outputs": [],
   "source": []
  },
  {
   "cell_type": "code",
   "execution_count": null,
   "metadata": {},
   "outputs": [],
   "source": []
  },
  {
   "cell_type": "code",
   "execution_count": null,
   "metadata": {},
   "outputs": [],
   "source": []
  },
  {
   "cell_type": "code",
   "execution_count": null,
   "metadata": {},
   "outputs": [],
   "source": []
  },
  {
   "cell_type": "markdown",
   "metadata": {},
   "source": [
    "### I) Modifier le jeu de données\n",
    "\n",
    "Il est temps de savoir faire quelques operations avec le jeu de données.\n",
    "\n",
    "Je vous propose ces premières pistes :\n",
    "- Nous allons enregistrer une image du dataset vers un format visualisable\n",
    "- Nous allons afficher dans la console une image du dataset\n",
    "- Nous allons convertir une image vers un array au format du dataset\n",
    "\n",
    "Ce n'est qu'un début, mais c'est essentiel pour la suite du TP"
   ]
  },
  {
   "cell_type": "markdown",
   "metadata": {},
   "source": [
    "#### a) Exporter une image depuis le dataset\n",
    "\n",
    "Que ce soit pour modifier, visualiser l'image, ou pour toute autre operation, enregistrer une image issue du dataset vers un format d'image standard est une methode qui merite de figurer dans <strong>cnnutils.py</strong>\n"
   ]
  },
  {
   "cell_type": "markdown",
   "metadata": {},
   "source": [
    "Pour cette convertion, nous utiliseront la methode <strong>fromarray</strong> de la bibliothèque <strong>PIL</strong>\n",
    "\n",
    "voici le code :"
   ]
  },
  {
   "cell_type": "code",
   "execution_count": 52,
   "metadata": {},
   "outputs": [],
   "source": [
    "# save an image from dataset to standard image file\n",
    "def export_image_from_dataset(data, filename):\n",
    "    im = Image.fromarray(data)\n",
    "    # other solution, using only keras and not plt\n",
    "    # keras.preprocessing.image.save_img(filename, data)\n",
    "    # im = keras.preprocessing.image.load_img / img_to_array\n",
    "    im.save(filename)"
   ]
  },
  {
   "cell_type": "markdown",
   "metadata": {},
   "source": [
    "#### b) Afficher une image du dataset\n",
    "\n",
    "Parfois on veut juste jetter un coup d'oeil sur l'image plutôt que la sauvegarder dans un fichier.\n",
    "\n",
    "Pour afficher une image directement dans la console, ou avec l'application de visualisation par defaut :"
   ]
  },
  {
   "cell_type": "code",
   "execution_count": 53,
   "metadata": {},
   "outputs": [],
   "source": [
    "# display and return image from array, [inline=true] show it on console\n",
    "def plot_image_from_dataset(data, inline=False):\n",
    "    #show it inline\n",
    "    if inline:\n",
    "        %matplotlib inline\n",
    "    img = keras.preprocessing.image.array_to_img(data)\n",
    "#     img.show()\n",
    "    return img\n"
   ]
  },
  {
   "cell_type": "markdown",
   "metadata": {},
   "source": [
    "#### c) Ajouter une image au dataset\n",
    "\n"
   ]
  },
  {
   "cell_type": "code",
   "execution_count": null,
   "metadata": {},
   "outputs": [],
   "source": []
  },
  {
   "cell_type": "code",
   "execution_count": null,
   "metadata": {},
   "outputs": [],
   "source": []
  },
  {
   "cell_type": "markdown",
   "metadata": {},
   "source": [
    "### J) Quelques tentatives issues des modèles précédents\n",
    "\n",
    "Parcequ'un modèle peut toujours s'améliorer et que c'est quand même ça le plus marrant, je propose de mixer les methodes que nous avons dejà vu et d'en modifier les paramètres.\n",
    "\n",
    "C'est, selon moi, la meilleur façon d'apprendre sans passer par la preuve mathematique."
   ]
  },
  {
   "cell_type": "code",
   "execution_count": null,
   "metadata": {},
   "outputs": [],
   "source": []
  },
  {
   "cell_type": "markdown",
   "metadata": {},
   "source": [
    "### K) Enrichissement du jeu de données\n",
    "\n",
    "Parceque un bon modèle ne fait pas de miracle avec de mauvaises données. Parceque, comme nous, l'IA se fait une image du monde à partir de ce qu'elle à pu experimenter de ce monde. Il est bon de savoir comment enrichir son jeu de données, aussi grand que soit le jeu d'origine.\n",
    "\n",
    "Nous allons voir quelques methodes applicables aux images que nous avons."
   ]
  },
  {
   "cell_type": "code",
   "execution_count": null,
   "metadata": {},
   "outputs": [],
   "source": []
  },
  {
   "cell_type": "code",
   "execution_count": null,
   "metadata": {},
   "outputs": [],
   "source": []
  },
  {
   "cell_type": "code",
   "execution_count": null,
   "metadata": {},
   "outputs": [],
   "source": []
  }
 ],
 "metadata": {
  "kernelspec": {
   "display_name": "Python 3",
   "language": "python",
   "name": "python3"
  },
  "language_info": {
   "codemirror_mode": {
    "name": "ipython",
    "version": 3
   },
   "file_extension": ".py",
   "mimetype": "text/x-python",
   "name": "python",
   "nbconvert_exporter": "python",
   "pygments_lexer": "ipython3",
   "version": "3.6.3"
  }
 },
 "nbformat": 4,
 "nbformat_minor": 2
}
